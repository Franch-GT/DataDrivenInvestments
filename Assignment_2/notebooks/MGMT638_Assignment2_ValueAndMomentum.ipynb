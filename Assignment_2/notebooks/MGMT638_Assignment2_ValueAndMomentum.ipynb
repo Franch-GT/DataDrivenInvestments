{
 "cells": [
  {
   "cell_type": "markdown",
   "metadata": {},
   "source": [
    "# MGMGT 638-001 Assignment 2 \n",
    "Author: Francho Garcia Takis <br>\n",
    "Date: 13-11-2024"
   ]
  },
  {
   "cell_type": "markdown",
   "metadata": {},
   "source": [
    "### Imports"
   ]
  },
  {
   "cell_type": "code",
   "execution_count": 1,
   "metadata": {},
   "outputs": [],
   "source": [
    "import pandas as pd\n",
    "import numpy as np\n",
    "import openpyxl\n",
    "import matplotlib.pyplot as plt\n",
    "import seaborn as sns\n",
    "import os\n",
    "import statsmodels.formula.api as smf\n",
    "\n",
    "import warnings\n",
    "warnings.filterwarnings(\"ignore\")"
   ]
  },
  {
   "cell_type": "markdown",
   "metadata": {},
   "source": [
    "### Data "
   ]
  },
  {
   "cell_type": "code",
   "execution_count": null,
   "metadata": {},
   "outputs": [],
   "source": [
    "\n",
    "data = pd.read_excel('../data/assignment2.xlsx')\n",
    "data = data.drop(data.columns[0], axis=1) #drop the first col"
   ]
  },
  {
   "cell_type": "code",
   "execution_count": 3,
   "metadata": {},
   "outputs": [
    {
     "data": {
      "text/html": [
       "<div>\n",
       "<style scoped>\n",
       "    .dataframe tbody tr th:only-of-type {\n",
       "        vertical-align: middle;\n",
       "    }\n",
       "\n",
       "    .dataframe tbody tr th {\n",
       "        vertical-align: top;\n",
       "    }\n",
       "\n",
       "    .dataframe thead th {\n",
       "        text-align: right;\n",
       "    }\n",
       "</style>\n",
       "<table border=\"1\" class=\"dataframe\">\n",
       "  <thead>\n",
       "    <tr style=\"text-align: right;\">\n",
       "      <th></th>\n",
       "      <th>ticker</th>\n",
       "      <th>date</th>\n",
       "      <th>pb</th>\n",
       "      <th>mom</th>\n",
       "      <th>ret</th>\n",
       "    </tr>\n",
       "  </thead>\n",
       "  <tbody>\n",
       "    <tr>\n",
       "      <th>0</th>\n",
       "      <td>ACR</td>\n",
       "      <td>2023-01-06</td>\n",
       "      <td>0.2</td>\n",
       "      <td>-0.202085</td>\n",
       "      <td>0.084746</td>\n",
       "    </tr>\n",
       "    <tr>\n",
       "      <th>1</th>\n",
       "      <td>ACU</td>\n",
       "      <td>2023-01-06</td>\n",
       "      <td>1.0</td>\n",
       "      <td>-0.306748</td>\n",
       "      <td>-0.023573</td>\n",
       "    </tr>\n",
       "    <tr>\n",
       "      <th>2</th>\n",
       "      <td>AIRG</td>\n",
       "      <td>2023-01-06</td>\n",
       "      <td>1.6</td>\n",
       "      <td>-0.257761</td>\n",
       "      <td>0.062980</td>\n",
       "    </tr>\n",
       "    <tr>\n",
       "      <th>3</th>\n",
       "      <td>AIRT</td>\n",
       "      <td>2023-01-06</td>\n",
       "      <td>3.1</td>\n",
       "      <td>-0.032604</td>\n",
       "      <td>-0.017799</td>\n",
       "    </tr>\n",
       "    <tr>\n",
       "      <th>4</th>\n",
       "      <td>ARKR</td>\n",
       "      <td>2023-01-06</td>\n",
       "      <td>1.0</td>\n",
       "      <td>0.108092</td>\n",
       "      <td>0.044684</td>\n",
       "    </tr>\n",
       "  </tbody>\n",
       "</table>\n",
       "</div>"
      ],
      "text/plain": [
       "  ticker        date   pb       mom       ret\n",
       "0    ACR  2023-01-06  0.2 -0.202085  0.084746\n",
       "1    ACU  2023-01-06  1.0 -0.306748 -0.023573\n",
       "2   AIRG  2023-01-06  1.6 -0.257761  0.062980\n",
       "3   AIRT  2023-01-06  3.1 -0.032604 -0.017799\n",
       "4   ARKR  2023-01-06  1.0  0.108092  0.044684"
      ]
     },
     "execution_count": 3,
     "metadata": {},
     "output_type": "execute_result"
    }
   ],
   "source": [
    "data['date'] = pd.to_datetime(data['date']).dt.strftime('%Y-%m-%d') #convert date to datetime\n",
    "data.head()"
   ]
  },
  {
   "cell_type": "code",
   "execution_count": 4,
   "metadata": {},
   "outputs": [
    {
     "data": {
      "text/plain": [
       "array(['2023-01-06', '2023-01-13', '2023-01-20', '2023-01-27'],\n",
       "      dtype=object)"
      ]
     },
     "execution_count": 4,
     "metadata": {},
     "output_type": "execute_result"
    }
   ],
   "source": [
    "data['date'].unique()"
   ]
  },
  {
   "cell_type": "markdown",
   "metadata": {},
   "source": [
    "Using the data for the first two dates (January 6 and 13), run a linear regression of ret on pb and mom (including an intercept)"
   ]
  },
  {
   "cell_type": "code",
   "execution_count": 5,
   "metadata": {},
   "outputs": [
    {
     "name": "stdout",
     "output_type": "stream",
     "text": [
      "                            OLS Regression Results                            \n",
      "==============================================================================\n",
      "Dep. Variable:                    ret   R-squared:                       0.015\n",
      "Model:                            OLS   Adj. R-squared:                  0.005\n",
      "Method:                 Least Squares   F-statistic:                     1.530\n",
      "Date:                Tue, 12 Nov 2024   Prob (F-statistic):              0.219\n",
      "Time:                        16:43:12   Log-Likelihood:                 181.98\n",
      "No. Observations:                 200   AIC:                            -358.0\n",
      "Df Residuals:                     197   BIC:                            -348.1\n",
      "Df Model:                           2                                         \n",
      "Covariance Type:            nonrobust                                         \n",
      "==============================================================================\n",
      "                 coef    std err          t      P>|t|      [0.025      0.975]\n",
      "------------------------------------------------------------------------------\n",
      "Intercept      0.0256      0.013      2.046      0.042       0.001       0.050\n",
      "pb             0.0040      0.005      0.773      0.441      -0.006       0.014\n",
      "mom            0.0249      0.024      1.036      0.302      -0.022       0.072\n",
      "==============================================================================\n",
      "Omnibus:                      144.051   Durbin-Watson:                   2.130\n",
      "Prob(Omnibus):                  0.000   Jarque-Bera (JB):             4018.033\n",
      "Skew:                           2.246   Prob(JB):                         0.00\n",
      "Kurtosis:                      24.494   Cond. No.                         7.96\n",
      "==============================================================================\n",
      "\n",
      "Notes:\n",
      "[1] Standard Errors assume that the covariance matrix of the errors is correctly specified.\n"
     ]
    }
   ],
   "source": [
    "train_one = data[data['date'] < '2023-01-14'] #Using only the 6th and 13th of Jan for fitting the regression model\n",
    "reg_one = smf.ols(formula='ret ~ pb + mom', data=train_one).fit()\n",
    "print(reg_one.summary())"
   ]
  },
  {
   "cell_type": "markdown",
   "metadata": {},
   "source": [
    "Using the coefficients from the regression and the pb and mom data on the third date (January 20), compute predicted returns"
   ]
  },
  {
   "cell_type": "code",
   "execution_count": 6,
   "metadata": {},
   "outputs": [],
   "source": [
    "a_one, b_pb_one, b_mom_one = reg_one.params #Saving the regression coefficients\n",
    "\n",
    "test_one = data[data['date'] == '2023-01-20'] #test set is the 20th of Jan\n",
    "\n",
    "test_one['pred_ret'] = a_one + b_pb_one * test_one['pb'] + b_mom_one * test_one['mom'] #Calculate the predicted returns"
   ]
  },
  {
   "cell_type": "markdown",
   "metadata": {},
   "source": [
    "Sort the stocks on January 20 on predicted returns.  Form two portfolios: (i) the 20 stocks with the highest predicted returns and (ii) the 20 stocks with the lowest predicted returns.  Calculate equally-weighted portfolio returns for the week ending January 20 for each of these portfolios."
   ]
  },
  {
   "cell_type": "code",
   "execution_count": 7,
   "metadata": {},
   "outputs": [],
   "source": [
    "test_one = test_one.sort_values('pred_ret', ascending=False) #sorting from high predicted returns to low\n",
    "\n",
    "high_portfolio_one = test_one.head(20) #top 20 predicted returns portfolio\n",
    "low_portfolio_one = test_one.tail(20)"
   ]
  },
  {
   "cell_type": "code",
   "execution_count": 8,
   "metadata": {},
   "outputs": [
    {
     "name": "stdout",
     "output_type": "stream",
     "text": [
      "High predicted return portfolio mean return: 0.67%\n",
      "Low predicted return portfolio mean return: -1.00%\n"
     ]
    }
   ],
   "source": [
    "print(f\"High predicted return portfolio mean return: {high_portfolio_one['ret'].mean():.2%}\")\n",
    "print(f\"Low predicted return portfolio mean return: {low_portfolio_one['ret'].mean():.2%}\")"
   ]
  },
  {
   "cell_type": "markdown",
   "metadata": {},
   "source": [
    "Repeat 1-3, running the regression on the January 13 and January 20 data, and compute predicted returns and portfolio returns for January 27."
   ]
  },
  {
   "cell_type": "code",
   "execution_count": 9,
   "metadata": {},
   "outputs": [],
   "source": [
    "train_two = data[(data['date'] > '2023-01-06') & (data['date'] < '2023-01-21')] # Using the 13th and 20th of Jan for fitting the model"
   ]
  },
  {
   "cell_type": "code",
   "execution_count": 10,
   "metadata": {},
   "outputs": [
    {
     "name": "stdout",
     "output_type": "stream",
     "text": [
      "                            OLS Regression Results                            \n",
      "==============================================================================\n",
      "Dep. Variable:                    ret   R-squared:                       0.009\n",
      "Model:                            OLS   Adj. R-squared:                 -0.001\n",
      "Method:                 Least Squares   F-statistic:                    0.9374\n",
      "Date:                Tue, 12 Nov 2024   Prob (F-statistic):              0.393\n",
      "Time:                        16:43:12   Log-Likelihood:                 178.06\n",
      "No. Observations:                 200   AIC:                            -350.1\n",
      "Df Residuals:                     197   BIC:                            -340.2\n",
      "Df Model:                           2                                         \n",
      "Covariance Type:            nonrobust                                         \n",
      "==============================================================================\n",
      "                 coef    std err          t      P>|t|      [0.025      0.975]\n",
      "------------------------------------------------------------------------------\n",
      "Intercept      0.0200      0.013      1.520      0.130      -0.006       0.046\n",
      "pb             0.0038      0.005      0.723      0.470      -0.006       0.014\n",
      "mom            0.0179      0.025      0.705      0.482      -0.032       0.068\n",
      "==============================================================================\n",
      "Omnibus:                      149.006   Durbin-Watson:                   1.911\n",
      "Prob(Omnibus):                  0.000   Jarque-Bera (JB):             3456.472\n",
      "Skew:                           2.445   Prob(JB):                         0.00\n",
      "Kurtosis:                      22.770   Cond. No.                         8.34\n",
      "==============================================================================\n",
      "\n",
      "Notes:\n",
      "[1] Standard Errors assume that the covariance matrix of the errors is correctly specified.\n"
     ]
    }
   ],
   "source": [
    "reg_two = smf.ols(formula='ret ~ pb + mom', data=train_two).fit()\n",
    "print(reg_two.summary())"
   ]
  },
  {
   "cell_type": "code",
   "execution_count": 11,
   "metadata": {},
   "outputs": [],
   "source": [
    "a_two, b_pb_two, b_mom_two = reg_two.params #Saving the coefficients\n",
    "\n",
    "test_two = data[data['date'] >= '2023-01-27'] # Using the 27th of Jan for the test set\n",
    "\n",
    "test_two['pred_ret'] = a_two + b_pb_two * test_two['pb'] + b_mom_two * test_two['mom'] #Calculating the predicted returns"
   ]
  },
  {
   "cell_type": "code",
   "execution_count": 12,
   "metadata": {},
   "outputs": [
    {
     "name": "stdout",
     "output_type": "stream",
     "text": [
      "High predicted return portfolio mean return: 6.10%\n",
      "Low predicted return portfolio mean return: 1.03%\n"
     ]
    }
   ],
   "source": [
    "test_two = test_two.sort_values('pred_ret', ascending=False) #Sorting from high predicted returns to low\n",
    "\n",
    "high_portfolio_two = test_two.head(20) #Taking the top 20 predicted returns\n",
    "low_portfolio_two = test_two.tail(20)\n",
    "\n",
    "print(f\"High predicted return portfolio mean return: {high_portfolio_two['ret'].mean():.2%}\")\n",
    "print(f\"Low predicted return portfolio mean return: {low_portfolio_two['ret'].mean():.2%}\")"
   ]
  },
  {
   "cell_type": "markdown",
   "metadata": {},
   "source": [
    "Average the portfolio returns over the two dates, January 20 and January 27.  Did the stocks with the highest predicted returns beat the stocks with the lowest predicted returns?"
   ]
  },
  {
   "cell_type": "code",
   "execution_count": 13,
   "metadata": {},
   "outputs": [
    {
     "name": "stdout",
     "output_type": "stream",
     "text": [
      "Overall mean return of high predicted return portfolio: 3.39%\n",
      "Overall mean return of low predicted return portfolio: 0.01%\n"
     ]
    }
   ],
   "source": [
    "#Average of the high and low portfolios across both test sets: \n",
    "print(f\"Overall mean return of high predicted return portfolio: {(high_portfolio_one['ret'].mean() + high_portfolio_two['ret'].mean()) / 2:.2%}\")\n",
    "print(f\"Overall mean return of low predicted return portfolio: {(low_portfolio_one['ret'].mean() + low_portfolio_two['ret'].mean()) / 2:.2%}\")"
   ]
  }
 ],
 "metadata": {
  "kernelspec": {
   "display_name": "Python 3",
   "language": "python",
   "name": "python3"
  },
  "language_info": {
   "codemirror_mode": {
    "name": "ipython",
    "version": 3
   },
   "file_extension": ".py",
   "mimetype": "text/x-python",
   "name": "python",
   "nbconvert_exporter": "python",
   "pygments_lexer": "ipython3",
   "version": "3.12.2"
  }
 },
 "nbformat": 4,
 "nbformat_minor": 2
}
