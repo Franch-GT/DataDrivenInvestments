{
 "cells": [
  {
   "cell_type": "markdown",
   "metadata": {},
   "source": [
    "# MGMGT 638-001 Assignment 2 \n",
    "Author: Francho Garcia Takis <br>\n",
    "Date: 13-11-2024"
   ]
  },
  {
   "cell_type": "markdown",
   "metadata": {},
   "source": [
    "### Imports"
   ]
  },
  {
   "cell_type": "code",
   "execution_count": 1,
   "metadata": {},
   "outputs": [],
   "source": [
    "import pandas as pd\n",
    "import numpy as np\n",
    "import openpyxl\n",
    "import matplotlib.pyplot as plt\n",
    "import seaborn as sns\n",
    "import os\n",
    "import statsmodels.formula.api as smf\n",
    "\n",
    "import warnings\n",
    "warnings.filterwarnings(\"ignore\")"
   ]
  },
  {
   "cell_type": "markdown",
   "metadata": {},
   "source": [
    "### Data "
   ]
  },
  {
   "cell_type": "code",
   "execution_count": 2,
   "metadata": {},
   "outputs": [],
   "source": [
    "\n",
    "data = pd.read_excel('../data/assignment2.xlsx')\n",
    "data = data.drop(data.columns[0], axis=1) #drop the first col"
   ]
  },
  {
   "cell_type": "code",
   "execution_count": 3,
   "metadata": {},
   "outputs": [
    {
     "data": {
      "text/html": [
       "<div>\n",
       "<style scoped>\n",
       "    .dataframe tbody tr th:only-of-type {\n",
       "        vertical-align: middle;\n",
       "    }\n",
       "\n",
       "    .dataframe tbody tr th {\n",
       "        vertical-align: top;\n",
       "    }\n",
       "\n",
       "    .dataframe thead th {\n",
       "        text-align: right;\n",
       "    }\n",
       "</style>\n",
       "<table border=\"1\" class=\"dataframe\">\n",
       "  <thead>\n",
       "    <tr style=\"text-align: right;\">\n",
       "      <th></th>\n",
       "      <th>ticker</th>\n",
       "      <th>date</th>\n",
       "      <th>pb</th>\n",
       "      <th>mom</th>\n",
       "      <th>ret</th>\n",
       "    </tr>\n",
       "  </thead>\n",
       "  <tbody>\n",
       "    <tr>\n",
       "      <th>0</th>\n",
       "      <td>ACR</td>\n",
       "      <td>2023-01-06</td>\n",
       "      <td>0.2</td>\n",
       "      <td>-0.202085</td>\n",
       "      <td>0.084746</td>\n",
       "    </tr>\n",
       "    <tr>\n",
       "      <th>1</th>\n",
       "      <td>ACU</td>\n",
       "      <td>2023-01-06</td>\n",
       "      <td>1.0</td>\n",
       "      <td>-0.306748</td>\n",
       "      <td>-0.023573</td>\n",
       "    </tr>\n",
       "    <tr>\n",
       "      <th>2</th>\n",
       "      <td>AIRG</td>\n",
       "      <td>2023-01-06</td>\n",
       "      <td>1.6</td>\n",
       "      <td>-0.257761</td>\n",
       "      <td>0.062980</td>\n",
       "    </tr>\n",
       "    <tr>\n",
       "      <th>3</th>\n",
       "      <td>AIRT</td>\n",
       "      <td>2023-01-06</td>\n",
       "      <td>3.1</td>\n",
       "      <td>-0.032604</td>\n",
       "      <td>-0.017799</td>\n",
       "    </tr>\n",
       "    <tr>\n",
       "      <th>4</th>\n",
       "      <td>ARKR</td>\n",
       "      <td>2023-01-06</td>\n",
       "      <td>1.0</td>\n",
       "      <td>0.108092</td>\n",
       "      <td>0.044684</td>\n",
       "    </tr>\n",
       "  </tbody>\n",
       "</table>\n",
       "</div>"
      ],
      "text/plain": [
       "  ticker        date   pb       mom       ret\n",
       "0    ACR  2023-01-06  0.2 -0.202085  0.084746\n",
       "1    ACU  2023-01-06  1.0 -0.306748 -0.023573\n",
       "2   AIRG  2023-01-06  1.6 -0.257761  0.062980\n",
       "3   AIRT  2023-01-06  3.1 -0.032604 -0.017799\n",
       "4   ARKR  2023-01-06  1.0  0.108092  0.044684"
      ]
     },
     "execution_count": 3,
     "metadata": {},
     "output_type": "execute_result"
    }
   ],
   "source": [
    "data['date'] = pd.to_datetime(data['date']).dt.strftime('%Y-%m-%d') #convert date to datetime\n",
    "data.head()"
   ]
  },
  {
   "cell_type": "code",
   "execution_count": 4,
   "metadata": {},
   "outputs": [
    {
     "data": {
      "text/plain": [
       "array(['2023-01-06', '2023-01-13', '2023-01-20', '2023-01-27'],\n",
       "      dtype=object)"
      ]
     },
     "execution_count": 4,
     "metadata": {},
     "output_type": "execute_result"
    }
   ],
   "source": [
    "data['date'].unique()"
   ]
  },
  {
   "cell_type": "markdown",
   "metadata": {},
   "source": [
    "Using the data for the first two dates (January 6 and 13), run a linear regression of ret on pb and mom (including an intercept)"
   ]
  },
  {
   "cell_type": "code",
   "execution_count": 5,
   "metadata": {},
   "outputs": [
    {
     "name": "stdout",
     "output_type": "stream",
     "text": [
      "                            OLS Regression Results                            \n",
      "==============================================================================\n",
      "Dep. Variable:                    ret   R-squared:                       0.015\n",
      "Model:                            OLS   Adj. R-squared:                  0.005\n",
      "Method:                 Least Squares   F-statistic:                     1.530\n",
      "Date:                Wed, 13 Nov 2024   Prob (F-statistic):              0.219\n",
      "Time:                        14:11:10   Log-Likelihood:                 181.98\n",
      "No. Observations:                 200   AIC:                            -358.0\n",
      "Df Residuals:                     197   BIC:                            -348.1\n",
      "Df Model:                           2                                         \n",
      "Covariance Type:            nonrobust                                         \n",
      "==============================================================================\n",
      "                 coef    std err          t      P>|t|      [0.025      0.975]\n",
      "------------------------------------------------------------------------------\n",
      "Intercept      0.0256      0.013      2.046      0.042       0.001       0.050\n",
      "pb             0.0040      0.005      0.773      0.441      -0.006       0.014\n",
      "mom            0.0249      0.024      1.036      0.302      -0.022       0.072\n",
      "==============================================================================\n",
      "Omnibus:                      144.051   Durbin-Watson:                   2.130\n",
      "Prob(Omnibus):                  0.000   Jarque-Bera (JB):             4018.033\n",
      "Skew:                           2.246   Prob(JB):                         0.00\n",
      "Kurtosis:                      24.494   Cond. No.                         7.96\n",
      "==============================================================================\n",
      "\n",
      "Notes:\n",
      "[1] Standard Errors assume that the covariance matrix of the errors is correctly specified.\n"
     ]
    }
   ],
   "source": [
    "train_one = data[data['date'] < '2023-01-14'] #Using only the 6th and 13th of Jan for fitting the regression model\n",
    "reg_one = smf.ols(formula='ret ~ pb + mom', data=train_one).fit()\n",
    "print(reg_one.summary())"
   ]
  },
  {
   "cell_type": "markdown",
   "metadata": {},
   "source": [
    "Using the coefficients from the regression and the pb and mom data on the third date (January 20), compute predicted returns"
   ]
  },
  {
   "cell_type": "code",
   "execution_count": 6,
   "metadata": {},
   "outputs": [],
   "source": [
    "a_one, b_pb_one, b_mom_one = reg_one.params #Saving the regression coefficients\n",
    "\n",
    "test_one = data[data['date'] == '2023-01-20'] #test set is the 20th of Jan\n",
    "\n",
    "test_one['pred_ret'] = a_one + b_pb_one * test_one['pb'] + b_mom_one * test_one['mom'] #Calculate the predicted returns"
   ]
  },
  {
   "cell_type": "markdown",
   "metadata": {},
   "source": [
    "Sort the stocks on January 20 on predicted returns.  Form two portfolios: (i) the 20 stocks with the highest predicted returns and (ii) the 20 stocks with the lowest predicted returns.  Calculate equally-weighted portfolio returns for the week ending January 20 for each of these portfolios."
   ]
  },
  {
   "cell_type": "code",
   "execution_count": 7,
   "metadata": {},
   "outputs": [],
   "source": [
    "test_one = test_one.sort_values('pred_ret', ascending=False) #sorting from high predicted returns to low\n",
    "\n",
    "high_portfolio_one = test_one.head(20) #top 20 predicted returns portfolio\n",
    "low_portfolio_one = test_one.tail(20)"
   ]
  },
  {
   "cell_type": "code",
   "execution_count": 15,
   "metadata": {},
   "outputs": [
    {
     "data": {
      "text/html": [
       "<div>\n",
       "<style scoped>\n",
       "    .dataframe tbody tr th:only-of-type {\n",
       "        vertical-align: middle;\n",
       "    }\n",
       "\n",
       "    .dataframe tbody tr th {\n",
       "        vertical-align: top;\n",
       "    }\n",
       "\n",
       "    .dataframe thead th {\n",
       "        text-align: right;\n",
       "    }\n",
       "</style>\n",
       "<table border=\"1\" class=\"dataframe\">\n",
       "  <thead>\n",
       "    <tr style=\"text-align: right;\">\n",
       "      <th></th>\n",
       "      <th>ticker</th>\n",
       "      <th>date</th>\n",
       "      <th>pb</th>\n",
       "      <th>mom</th>\n",
       "      <th>ret</th>\n",
       "      <th>pred_ret</th>\n",
       "    </tr>\n",
       "  </thead>\n",
       "  <tbody>\n",
       "    <tr>\n",
       "      <th>214</th>\n",
       "      <td>COHN</td>\n",
       "      <td>2023-01-20</td>\n",
       "      <td>0.3</td>\n",
       "      <td>-0.353749</td>\n",
       "      <td>0.000376</td>\n",
       "      <td>0.017992</td>\n",
       "    </tr>\n",
       "    <tr>\n",
       "      <th>208</th>\n",
       "      <td>BMTX</td>\n",
       "      <td>2023-01-20</td>\n",
       "      <td>1.2</td>\n",
       "      <td>-0.504098</td>\n",
       "      <td>-0.017613</td>\n",
       "      <td>0.017869</td>\n",
       "    </tr>\n",
       "    <tr>\n",
       "      <th>229</th>\n",
       "      <td>GECC</td>\n",
       "      <td>2023-01-20</td>\n",
       "      <td>0.7</td>\n",
       "      <td>-0.429395</td>\n",
       "      <td>0.005908</td>\n",
       "      <td>0.017718</td>\n",
       "    </tr>\n",
       "    <tr>\n",
       "      <th>218</th>\n",
       "      <td>CULP</td>\n",
       "      <td>2023-01-20</td>\n",
       "      <td>0.7</td>\n",
       "      <td>-0.500335</td>\n",
       "      <td>-0.018450</td>\n",
       "      <td>0.015953</td>\n",
       "    </tr>\n",
       "    <tr>\n",
       "      <th>264</th>\n",
       "      <td>NICK</td>\n",
       "      <td>2023-01-20</td>\n",
       "      <td>0.4</td>\n",
       "      <td>-0.457292</td>\n",
       "      <td>-0.030016</td>\n",
       "      <td>0.015818</td>\n",
       "    </tr>\n",
       "    <tr>\n",
       "      <th>203</th>\n",
       "      <td>ASTC</td>\n",
       "      <td>2023-01-20</td>\n",
       "      <td>0.4</td>\n",
       "      <td>-0.479433</td>\n",
       "      <td>-0.062603</td>\n",
       "      <td>0.015268</td>\n",
       "    </tr>\n",
       "    <tr>\n",
       "      <th>250</th>\n",
       "      <td>KTRA</td>\n",
       "      <td>2023-01-20</td>\n",
       "      <td>1.2</td>\n",
       "      <td>-0.615449</td>\n",
       "      <td>-0.108298</td>\n",
       "      <td>0.015099</td>\n",
       "    </tr>\n",
       "    <tr>\n",
       "      <th>251</th>\n",
       "      <td>LDWY</td>\n",
       "      <td>2023-01-20</td>\n",
       "      <td>1.0</td>\n",
       "      <td>-0.628788</td>\n",
       "      <td>-0.019394</td>\n",
       "      <td>0.013964</td>\n",
       "    </tr>\n",
       "    <tr>\n",
       "      <th>298</th>\n",
       "      <td>WMC</td>\n",
       "      <td>2023-01-20</td>\n",
       "      <td>0.6</td>\n",
       "      <td>-0.566692</td>\n",
       "      <td>0.079821</td>\n",
       "      <td>0.013901</td>\n",
       "    </tr>\n",
       "    <tr>\n",
       "      <th>215</th>\n",
       "      <td>CRVO</td>\n",
       "      <td>2023-01-20</td>\n",
       "      <td>0.5</td>\n",
       "      <td>-0.589926</td>\n",
       "      <td>0.132976</td>\n",
       "      <td>0.012921</td>\n",
       "    </tr>\n",
       "    <tr>\n",
       "      <th>284</th>\n",
       "      <td>SLDB</td>\n",
       "      <td>2023-01-20</td>\n",
       "      <td>0.4</td>\n",
       "      <td>-0.673810</td>\n",
       "      <td>0.085926</td>\n",
       "      <td>0.010433</td>\n",
       "    </tr>\n",
       "    <tr>\n",
       "      <th>236</th>\n",
       "      <td>HOTH</td>\n",
       "      <td>2023-01-20</td>\n",
       "      <td>1.0</td>\n",
       "      <td>-0.794105</td>\n",
       "      <td>-0.127527</td>\n",
       "      <td>0.009851</td>\n",
       "    </tr>\n",
       "    <tr>\n",
       "      <th>230</th>\n",
       "      <td>GHSI</td>\n",
       "      <td>2023-01-20</td>\n",
       "      <td>0.4</td>\n",
       "      <td>-0.720048</td>\n",
       "      <td>-0.175309</td>\n",
       "      <td>0.009282</td>\n",
       "    </tr>\n",
       "    <tr>\n",
       "      <th>296</th>\n",
       "      <td>VTAK</td>\n",
       "      <td>2023-01-20</td>\n",
       "      <td>1.1</td>\n",
       "      <td>-0.925578</td>\n",
       "      <td>-0.429017</td>\n",
       "      <td>0.006983</td>\n",
       "    </tr>\n",
       "    <tr>\n",
       "      <th>283</th>\n",
       "      <td>SINT</td>\n",
       "      <td>2023-01-20</td>\n",
       "      <td>0.4</td>\n",
       "      <td>-0.828830</td>\n",
       "      <td>0.221929</td>\n",
       "      <td>0.006576</td>\n",
       "    </tr>\n",
       "    <tr>\n",
       "      <th>267</th>\n",
       "      <td>NUZE</td>\n",
       "      <td>2023-01-20</td>\n",
       "      <td>0.7</td>\n",
       "      <td>-0.898026</td>\n",
       "      <td>0.298057</td>\n",
       "      <td>0.006061</td>\n",
       "    </tr>\n",
       "    <tr>\n",
       "      <th>268</th>\n",
       "      <td>NYC</td>\n",
       "      <td>2023-01-20</td>\n",
       "      <td>0.1</td>\n",
       "      <td>-0.823889</td>\n",
       "      <td>0.029078</td>\n",
       "      <td>0.005494</td>\n",
       "    </tr>\n",
       "    <tr>\n",
       "      <th>233</th>\n",
       "      <td>HALL</td>\n",
       "      <td>2023-01-20</td>\n",
       "      <td>0.2</td>\n",
       "      <td>-0.900202</td>\n",
       "      <td>0.031970</td>\n",
       "      <td>0.003997</td>\n",
       "    </tr>\n",
       "    <tr>\n",
       "      <th>280</th>\n",
       "      <td>RSLS</td>\n",
       "      <td>2023-01-20</td>\n",
       "      <td>0.2</td>\n",
       "      <td>-0.902785</td>\n",
       "      <td>-0.119266</td>\n",
       "      <td>0.003933</td>\n",
       "    </tr>\n",
       "    <tr>\n",
       "      <th>266</th>\n",
       "      <td>NUWE</td>\n",
       "      <td>2023-01-20</td>\n",
       "      <td>0.2</td>\n",
       "      <td>-0.925047</td>\n",
       "      <td>0.020891</td>\n",
       "      <td>0.003379</td>\n",
       "    </tr>\n",
       "  </tbody>\n",
       "</table>\n",
       "</div>"
      ],
      "text/plain": [
       "    ticker        date   pb       mom       ret  pred_ret\n",
       "214   COHN  2023-01-20  0.3 -0.353749  0.000376  0.017992\n",
       "208   BMTX  2023-01-20  1.2 -0.504098 -0.017613  0.017869\n",
       "229   GECC  2023-01-20  0.7 -0.429395  0.005908  0.017718\n",
       "218   CULP  2023-01-20  0.7 -0.500335 -0.018450  0.015953\n",
       "264   NICK  2023-01-20  0.4 -0.457292 -0.030016  0.015818\n",
       "203   ASTC  2023-01-20  0.4 -0.479433 -0.062603  0.015268\n",
       "250   KTRA  2023-01-20  1.2 -0.615449 -0.108298  0.015099\n",
       "251   LDWY  2023-01-20  1.0 -0.628788 -0.019394  0.013964\n",
       "298    WMC  2023-01-20  0.6 -0.566692  0.079821  0.013901\n",
       "215   CRVO  2023-01-20  0.5 -0.589926  0.132976  0.012921\n",
       "284   SLDB  2023-01-20  0.4 -0.673810  0.085926  0.010433\n",
       "236   HOTH  2023-01-20  1.0 -0.794105 -0.127527  0.009851\n",
       "230   GHSI  2023-01-20  0.4 -0.720048 -0.175309  0.009282\n",
       "296   VTAK  2023-01-20  1.1 -0.925578 -0.429017  0.006983\n",
       "283   SINT  2023-01-20  0.4 -0.828830  0.221929  0.006576\n",
       "267   NUZE  2023-01-20  0.7 -0.898026  0.298057  0.006061\n",
       "268    NYC  2023-01-20  0.1 -0.823889  0.029078  0.005494\n",
       "233   HALL  2023-01-20  0.2 -0.900202  0.031970  0.003997\n",
       "280   RSLS  2023-01-20  0.2 -0.902785 -0.119266  0.003933\n",
       "266   NUWE  2023-01-20  0.2 -0.925047  0.020891  0.003379"
      ]
     },
     "execution_count": 15,
     "metadata": {},
     "output_type": "execute_result"
    }
   ],
   "source": [
    "low_portfolio_one"
   ]
  },
  {
   "cell_type": "code",
   "execution_count": 8,
   "metadata": {},
   "outputs": [
    {
     "name": "stdout",
     "output_type": "stream",
     "text": [
      "High predicted return portfolio mean return: 0.67%\n",
      "Low predicted return portfolio mean return: -1.00%\n"
     ]
    }
   ],
   "source": [
    "print(f\"High predicted return portfolio mean return: {high_portfolio_one['ret'].mean():.2%}\")\n",
    "print(f\"Low predicted return portfolio mean return: {low_portfolio_one['ret'].mean():.2%}\")"
   ]
  },
  {
   "cell_type": "markdown",
   "metadata": {},
   "source": [
    "Repeat 1-3, running the regression on the January 13 and January 20 data, and compute predicted returns and portfolio returns for January 27."
   ]
  },
  {
   "cell_type": "code",
   "execution_count": 9,
   "metadata": {},
   "outputs": [],
   "source": [
    "train_two = data[(data['date'] > '2023-01-06') & (data['date'] < '2023-01-21')] # Using the 13th and 20th of Jan for fitting the model"
   ]
  },
  {
   "cell_type": "code",
   "execution_count": 10,
   "metadata": {},
   "outputs": [
    {
     "name": "stdout",
     "output_type": "stream",
     "text": [
      "                            OLS Regression Results                            \n",
      "==============================================================================\n",
      "Dep. Variable:                    ret   R-squared:                       0.009\n",
      "Model:                            OLS   Adj. R-squared:                 -0.001\n",
      "Method:                 Least Squares   F-statistic:                    0.9374\n",
      "Date:                Wed, 13 Nov 2024   Prob (F-statistic):              0.393\n",
      "Time:                        14:11:10   Log-Likelihood:                 178.06\n",
      "No. Observations:                 200   AIC:                            -350.1\n",
      "Df Residuals:                     197   BIC:                            -340.2\n",
      "Df Model:                           2                                         \n",
      "Covariance Type:            nonrobust                                         \n",
      "==============================================================================\n",
      "                 coef    std err          t      P>|t|      [0.025      0.975]\n",
      "------------------------------------------------------------------------------\n",
      "Intercept      0.0200      0.013      1.520      0.130      -0.006       0.046\n",
      "pb             0.0038      0.005      0.723      0.470      -0.006       0.014\n",
      "mom            0.0179      0.025      0.705      0.482      -0.032       0.068\n",
      "==============================================================================\n",
      "Omnibus:                      149.006   Durbin-Watson:                   1.911\n",
      "Prob(Omnibus):                  0.000   Jarque-Bera (JB):             3456.472\n",
      "Skew:                           2.445   Prob(JB):                         0.00\n",
      "Kurtosis:                      22.770   Cond. No.                         8.34\n",
      "==============================================================================\n",
      "\n",
      "Notes:\n",
      "[1] Standard Errors assume that the covariance matrix of the errors is correctly specified.\n"
     ]
    }
   ],
   "source": [
    "reg_two = smf.ols(formula='ret ~ pb + mom', data=train_two).fit()\n",
    "print(reg_two.summary())"
   ]
  },
  {
   "cell_type": "code",
   "execution_count": 11,
   "metadata": {},
   "outputs": [],
   "source": [
    "a_two, b_pb_two, b_mom_two = reg_two.params #Saving the coefficients\n",
    "\n",
    "test_two = data[data['date'] >= '2023-01-27'] # Using the 27th of Jan for the test set\n",
    "\n",
    "test_two['pred_ret'] = a_two + b_pb_two * test_two['pb'] + b_mom_two * test_two['mom'] #Calculating the predicted returns"
   ]
  },
  {
   "cell_type": "code",
   "execution_count": 12,
   "metadata": {},
   "outputs": [
    {
     "name": "stdout",
     "output_type": "stream",
     "text": [
      "High predicted return portfolio mean return: 6.10%\n",
      "Low predicted return portfolio mean return: 1.03%\n"
     ]
    }
   ],
   "source": [
    "test_two = test_two.sort_values('pred_ret', ascending=False) #Sorting from high predicted returns to low\n",
    "\n",
    "high_portfolio_two = test_two.head(20) #Taking the top 20 predicted returns\n",
    "low_portfolio_two = test_two.tail(20)\n",
    "\n",
    "print(f\"High predicted return portfolio mean return: {high_portfolio_two['ret'].mean():.2%}\")\n",
    "print(f\"Low predicted return portfolio mean return: {low_portfolio_two['ret'].mean():.2%}\")"
   ]
  },
  {
   "cell_type": "markdown",
   "metadata": {},
   "source": [
    "Average the portfolio returns over the two dates, January 20 and January 27.  Did the stocks with the highest predicted returns beat the stocks with the lowest predicted returns?"
   ]
  },
  {
   "cell_type": "code",
   "execution_count": 13,
   "metadata": {},
   "outputs": [
    {
     "name": "stdout",
     "output_type": "stream",
     "text": [
      "Overall mean return of high predicted return portfolio: 3.39%\n",
      "Overall mean return of low predicted return portfolio: 0.01%\n"
     ]
    }
   ],
   "source": [
    "#Average of the high and low portfolios across both test sets: \n",
    "print(f\"Overall mean return of high predicted return portfolio: {(high_portfolio_one['ret'].mean() + high_portfolio_two['ret'].mean()) / 2:.2%}\")\n",
    "print(f\"Overall mean return of low predicted return portfolio: {(low_portfolio_one['ret'].mean() + low_portfolio_two['ret'].mean()) / 2:.2%}\")"
   ]
  }
 ],
 "metadata": {
  "kernelspec": {
   "display_name": "Python 3",
   "language": "python",
   "name": "python3"
  },
  "language_info": {
   "codemirror_mode": {
    "name": "ipython",
    "version": 3
   },
   "file_extension": ".py",
   "mimetype": "text/x-python",
   "name": "python",
   "nbconvert_exporter": "python",
   "pygments_lexer": "ipython3",
   "version": "3.12.2"
  }
 },
 "nbformat": 4,
 "nbformat_minor": 2
}
